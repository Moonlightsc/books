{
  "nbformat": 4,
  "nbformat_minor": 0,
  "metadata": {
    "colab": {
      "provenance": []
    },
    "kernelspec": {
      "name": "python3",
      "display_name": "Python 3"
    },
    "language_info": {
      "name": "python"
    }
  },
  "cells": [
    {
      "cell_type": "code",
      "execution_count": 1,
      "metadata": {
        "colab": {
          "base_uri": "https://localhost:8080/"
        },
        "id": "nMWhsED0omps",
        "outputId": "4a4d8682-fb69-4827-a84c-20e16adcf85a"
      },
      "outputs": [
        {
          "output_type": "stream",
          "name": "stdout",
          "text": [
            "Mounted at /content/gdrive\n"
          ]
        }
      ],
      "source": [
        "from google.colab import drive\n",
        "drive.mount('/content/gdrive')"
      ]
    },
    {
      "cell_type": "code",
      "source": [
        "import pandas as pd\n",
        "import numpy as np\n",
        "from sklearn.model_selection import train_test_split\n",
        "from scipy.sparse import csr_matrix\n",
        "from sklearn.metrics import mean_absolute_error, mean_squared_error\n",
        "from sklearn.preprocessing import normalize\n",
        "\n",
        "df = pd.read_csv('/content/gdrive/MyDrive/Books.csv')\n",
        "\n",
        "df['ISBN'] = pd.Categorical(df['ISBN'])\n",
        "df['book_id'] = df['ISBN'].cat.codes\n",
        "\n",
        "id_title_map = {}\n",
        "for i, row in df.iterrows():\n",
        "    id_title_map[row['book_id']] = row['Book-Title']\n",
        "\n",
        "num_users = df['User-ID'].nunique()\n",
        "num_books = df['book_id'].nunique()\n",
        "data_matrix = csr_matrix((df['Book-Rating'], (df['User-ID']-1, df['book_id'])), shape=(num_users, num_books))\n",
        "\n",
        "train_data, test_data = train_test_split(data_matrix, test_size=0.1, random_state=42)\n",
        "train_data, dev_data = train_test_split(train_data, test_size=0.1, random_state=42)\n",
        "\n",
        "train_data_norm = normalize(train_data)\n",
        "\n",
        "item_sim = cosine_similarity(train_data_norm.T)\n",
        "\n",
        "test_users = test_data.nonzero()[0]\n",
        "recommendations = {}\n",
        "for user in test_users:\n",
        "    user_ratings = train_data[user, :]\n",
        "    rated_items = user_ratings.nonzero()[1]\n",
        "    scores = item_sim[rated_items, :].sum(axis=0)\n",
        "    top_items = np.argsort(scores)[::-1][:30]\n",
        "    recommendations[user] = [(id_title_map[item], scores[item]) for item in top_items]\n",
        "\n",
        "test_users, test_items = test_data.nonzero()\n",
        "test_ratings = test_data[test_users, test_items]\n",
        "predicted_ratings = np.zeros_like(test_ratings)\n",
        "for i, (user, item) in enumerate(zip(test_users, test_items)):\n",
        "    item_vec = train_data_norm[:, item]\n",
        "    rated_items = train_data_norm[user, :].nonzero()[1]\n",
        "    scores = item_sim[rated_items, item]\n",
        "    top_scores = scores[np.argsort(scores)[::-1][:30]]\n",
        "    top_rated = train_data[user, np.argsort(scores)[::-1][:30]].toarray().ravel()\n",
        "    predicted_ratings[i] = np.dot(top_scores, top_rated) / np.sum(top_scores)\n",
        "mae = mean_absolute_error(test_ratings, predicted_ratings)\n",
        "rmse = np.sqrt(mean_squared_error(test_ratings, predicted_ratings))\n",
        "print(f\"MAE: {mae:.2f}\")\n",
        "print(f\"RMSE: {rmse:.2f}\")\n"
      ],
      "metadata": {
        "id": "6DuWQUP-o1BP"
      },
      "execution_count": null,
      "outputs": []
    }
  ]
}